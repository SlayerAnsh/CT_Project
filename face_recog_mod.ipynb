{
 "cells": [
  {
   "cell_type": "code",
   "execution_count": 5,
   "id": "swiss-space",
   "metadata": {},
   "outputs": [],
   "source": [
    "import face_recognition as fr\n",
    "from os import listdir,makedirs\n",
    "from os.path import isfile, join,splitext\n",
    "from shutil import copy2"
   ]
  },
  {
   "cell_type": "code",
   "execution_count": 6,
   "id": "other-oklahoma",
   "metadata": {},
   "outputs": [],
   "source": [
    "known_uri = './Known/'\n",
    "db_uri = \"./Unknown/\"\n",
    "result_uri = \"./Result\""
   ]
  },
  {
   "cell_type": "code",
   "execution_count": 9,
   "id": "psychological-captain",
   "metadata": {},
   "outputs": [
    {
     "name": "stdout",
     "output_type": "stream",
     "text": [
      "['random2.jpg', 'AmitabY.jpg', 'random1.jpg', 'Amitab1.jpg', 'Amitab_Abhishek.jpg', 'Abhishek2.jpg']\n",
      "['Abhishek.jpg', 'Amitab_Abhishek.jpg', 'Amitab.jpg']\n"
     ]
    }
   ],
   "source": [
    "db_files = [f for f in listdir(db_uri) if isfile(join(db_uri, f))]\n",
    "print(db_files)\n",
    "known_files = [f for f in listdir(known_uri) if isfile(join(known_uri, f))]\n",
    "print(known_files)"
   ]
  },
  {
   "cell_type": "code",
   "execution_count": 10,
   "id": "biological-pressure",
   "metadata": {},
   "outputs": [
    {
     "name": "stdout",
     "output_type": "stream",
     "text": [
      "DONE\n"
     ]
    }
   ],
   "source": [
    "# iterate over all known files files\n",
    "for known in known_files:\n",
    "    [name,ext] = splitext(known)\n",
    "    if ext != '.jpg':\n",
    "        continue\n",
    "    known_image = fr.load_image_file(known_uri + known)\n",
    "    known_encodings = fr.face_encodings(known_image)\n",
    "    save_folder = join(result_uri,name)\n",
    "    makedirs(save_folder,exist_ok=True)\n",
    "    # iterate over all db images for each known file\n",
    "    for db in db_files:\n",
    "        [db_name,db_ext] = splitext(known)\n",
    "        if db_ext != '.jpg':\n",
    "            continue\n",
    "        db_image = fr.load_image_file(db_uri + db)\n",
    "        db_encodings = fr.face_encodings(db_image)\n",
    "        # iterate over each encoding of db_file\n",
    "        for encoding in db_encodings:\n",
    "            result = fr.compare_faces(known_encodings,encoding)\n",
    "            if sum(result)>0:\n",
    "                copy2(db_uri + db, save_folder)\n",
    "                break\n",
    "print(\"DONE\")\n",
    "                \n",
    "        \n"
   ]
  },
  {
   "cell_type": "code",
   "execution_count": null,
   "id": "cellular-freeware",
   "metadata": {},
   "outputs": [],
   "source": []
  }
 ],
 "metadata": {
  "kernelspec": {
   "display_name": "Python 3",
   "language": "python",
   "name": "python3"
  },
  "language_info": {
   "codemirror_mode": {
    "name": "ipython",
    "version": 3
   },
   "file_extension": ".py",
   "mimetype": "text/x-python",
   "name": "python",
   "nbconvert_exporter": "python",
   "pygments_lexer": "ipython3",
   "version": "3.7.10"
  }
 },
 "nbformat": 4,
 "nbformat_minor": 5
}
