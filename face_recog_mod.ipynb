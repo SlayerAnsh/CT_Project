{
 "cells": [
  {
   "cell_type": "code",
   "execution_count": 1,
   "id": "quick-helping",
   "metadata": {},
   "outputs": [],
   "source": [
    "import face_recognition as fr\n",
    "from os import listdir,makedirs\n",
    "from os.path import isfile, join,splitext\n",
    "from shutil import copy2"
   ]
  },
  {
   "cell_type": "code",
   "execution_count": 2,
   "id": "convinced-election",
   "metadata": {},
   "outputs": [],
   "source": [
    "known_uri = './Known/'\n",
    "db_uri = \"./Unknown/\"\n",
    "result_uri = \"./Result\""
   ]
  },
  {
   "cell_type": "code",
   "execution_count": 3,
   "id": "gorgeous-index",
   "metadata": {},
   "outputs": [
    {
     "name": "stdout",
     "output_type": "stream",
     "text": [
      "['Amitab_1.jpg', 'Abhishek_1.jpg', 'random2.jpg', 'random1.jpg', 'Amitab_Abishek_2.jpeg', 'Abhishek_2.jpeg', 'Amitab_3.jpeg', 'Abhishek_0.jpg', 'Amitab_4.jpg', 'Abhishek_3.jpeg', 'Amitab_Abhishek_1.jpg', 'Amitab_0.jpg', 'Amitab_2.jpeg']\n",
      "['Abhishek.jpg', 'Amitab_Abhishek.jpg', 'Amitab.jpg']\n"
     ]
    }
   ],
   "source": [
    "db_files = [f for f in listdir(db_uri) if isfile(join(db_uri, f))]\n",
    "print(db_files)\n",
    "known_files = [f for f in listdir(known_uri) if isfile(join(known_uri, f))]\n",
    "print(known_files)"
   ]
  },
  {
   "cell_type": "code",
   "execution_count": 4,
   "id": "funny-jurisdiction",
   "metadata": {},
   "outputs": [],
   "source": [
    "threshold = 0.55"
   ]
  },
  {
   "cell_type": "code",
   "execution_count": 5,
   "id": "straight-classic",
   "metadata": {},
   "outputs": [
    {
     "name": "stdout",
     "output_type": "stream",
     "text": [
      "Extracting Images of Abhishek :\n",
      "> Checking File: Amitab_1.jpg \n",
      "> Checking File: Abhishek_1.jpg 0.3558 Accepted\n",
      "> Checking File: random2.jpg \n",
      "> Checking File: random1.jpg \n",
      "> Checking File: Amitab_Abishek_2.jpeg 0.4005 Accepted\n",
      "> Checking File: Abhishek_2.jpeg 0.4852 Accepted\n",
      "> Checking File: Amitab_3.jpeg \n",
      "> Checking File: Abhishek_0.jpg 0.0 Accepted\n",
      "> Checking File: Amitab_4.jpg \n",
      "> Checking File: Abhishek_3.jpeg 0.4401 Accepted\n",
      "> Checking File: Amitab_Abhishek_1.jpg 0.4004 Accepted\n",
      "> Checking File: Amitab_0.jpg \n",
      "> Checking File: Amitab_2.jpeg \n",
      "Extracting Images of Amitab_Abhishek :\n",
      "> Checking File: Amitab_1.jpg 0.3641 Accepted\n",
      "> Checking File: Abhishek_1.jpg 0.5002 Accepted\n",
      "> Checking File: random2.jpg \n",
      "> Checking File: random1.jpg \n",
      "> Checking File: Amitab_Abishek_2.jpeg 0.2953 Accepted\n",
      "> Checking File: Abhishek_2.jpeg 0.4425 Accepted\n",
      "> Checking File: Amitab_3.jpeg 0.3965 Accepted\n",
      "> Checking File: Abhishek_0.jpg 0.4004 Accepted\n",
      "> Checking File: Amitab_4.jpg 0.5334 Accepted\n",
      "> Checking File: Abhishek_3.jpeg 0.4118 Accepted\n",
      "> Checking File: Amitab_Abhishek_1.jpg 0.0 Accepted\n",
      "> Checking File: Amitab_0.jpg 0.3545 Accepted\n",
      "> Checking File: Amitab_2.jpeg 0.4161 Accepted\n",
      "Extracting Images of Amitab :\n",
      "> Checking File: Amitab_1.jpg 0.3372 Accepted\n",
      "> Checking File: Abhishek_1.jpg \n",
      "> Checking File: random2.jpg \n",
      "> Checking File: random1.jpg \n",
      "> Checking File: Amitab_Abishek_2.jpeg 0.3879 Accepted\n",
      "> Checking File: Abhishek_2.jpeg \n",
      "> Checking File: Amitab_3.jpeg 0.5012 Accepted\n",
      "> Checking File: Abhishek_0.jpg \n",
      "> Checking File: Amitab_4.jpg 0.5359 Accepted\n",
      "> Checking File: Abhishek_3.jpeg \n",
      "> Checking File: Amitab_Abhishek_1.jpg 0.3545 Accepted\n",
      "> Checking File: Amitab_0.jpg 0.0 Accepted\n",
      "> Checking File: Amitab_2.jpeg 0.4522 Accepted\n",
      "DONE\n"
     ]
    }
   ],
   "source": [
    "# iterate over all known files files\n",
    "for known in known_files:\n",
    "    [name,ext] = splitext(known)\n",
    "    if ext != '.jpg' and ext != '.jpeg':\n",
    "        continue\n",
    "    known_image = fr.load_image_file(known_uri + known)\n",
    "    known_encodings = fr.face_encodings(known_image)\n",
    "    save_folder = join(result_uri,name)\n",
    "    makedirs(save_folder,exist_ok=True)\n",
    "    print(\"Extracting Images of \" + name,end=\" :\\n\")\n",
    "    # iterate over all db images for each known file\n",
    "    for db in db_files:\n",
    "        [db_name,db_ext] = splitext(db)\n",
    "        if db_ext != '.jpg' and db_ext != '.jpeg':\n",
    "            continue\n",
    "        db_image = fr.load_image_file(db_uri + db)\n",
    "        db_encodings = fr.face_encodings(db_image)\n",
    "        print(\"> Checking File: \" + db,end=\" \")\n",
    "        # iterate over each encoding of db_file\n",
    "        for encoding in db_encodings:\n",
    "            success = False\n",
    "            distances = fr.face_distance(known_encodings,encoding)\n",
    "            for distance in distances:\n",
    "                if distance < threshold:\n",
    "                    success = True\n",
    "                    copy2(db_uri + db, save_folder)\n",
    "                    break\n",
    "            if success == True:\n",
    "                print(round(distance,4),end=\" \")\n",
    "                print(\"Accepted\",end=\"\")\n",
    "                break\n",
    "        print(\"\")\n",
    "print(\"DONE\")"
   ]
  },
  {
   "cell_type": "code",
   "execution_count": null,
   "id": "confidential-keeping",
   "metadata": {},
   "outputs": [],
   "source": []
  }
 ],
 "metadata": {
  "kernelspec": {
   "display_name": "Python 3",
   "language": "python",
   "name": "python3"
  },
  "language_info": {
   "codemirror_mode": {
    "name": "ipython",
    "version": 3
   },
   "file_extension": ".py",
   "mimetype": "text/x-python",
   "name": "python",
   "nbconvert_exporter": "python",
   "pygments_lexer": "ipython3",
   "version": "3.7.10"
  }
 },
 "nbformat": 4,
 "nbformat_minor": 5
}
